{
 "cells": [
  {
   "cell_type": "code",
   "execution_count": 27,
   "id": "e778a82c-4179-4992-8764-26d56a1cd757",
   "metadata": {},
   "outputs": [],
   "source": [
    "import pandas as pd\n",
    "import matplotlib.pyplot as plt  #Meter graficos?"
   ]
  },
  {
   "cell_type": "code",
   "execution_count": 19,
   "id": "8748dafe-58fc-43d8-a9ff-802ada32604d",
   "metadata": {},
   "outputs": [
    {
     "name": "stdout",
     "output_type": "stream",
     "text": [
      "Requirement already satisfied: openpyxl in /Users/corti/Library/jupyterlab-desktop/jlab_server/lib/python3.8/site-packages (3.1.2)\n",
      "Requirement already satisfied: et-xmlfile in /Users/corti/Library/jupyterlab-desktop/jlab_server/lib/python3.8/site-packages (from openpyxl) (1.1.0)\n",
      "Note: you may need to restart the kernel to use updated packages.\n"
     ]
    }
   ],
   "source": [
    "pip install openpyxl"
   ]
  },
  {
   "cell_type": "markdown",
   "id": "12e216e4-8e82-4ee5-98ac-207201699bae",
   "metadata": {},
   "source": [
    "<h2>Datos relativos a AQ, BG, y Vistas</h2>"
   ]
  },
  {
   "cell_type": "code",
   "execution_count": 8,
   "id": "a0b1400f-3d95-4008-922c-5d74291d18e9",
   "metadata": {},
   "outputs": [],
   "source": [
    "AQ = [\"Disponibilidad\", \"Seguridad\", \"Fiabilidad\", \"Escalabilidad\", \"Modificabilidad\", \"Rendimiento\", \n",
    "      \"Testeabilidad\", \"Interoperabilidad\"]\n",
    "\n",
    "BG = [\"BG:1 Reducir el desperdicio de agua ocasionado por fugas\", \n",
    "      \"BG:2 Asegurar que la calidad del agua es aceptable\", \n",
    "      \"BG:3 Reducir el coste de mantenimiento\", \n",
    "      \"BG:4 Recolección de datos fiables\", \n",
    "      \"BG:5 Datos cifrados\", \n",
    "      \"BG:6 Reducir la posibilidad de ocasionar daños físicos\", \n",
    "      \"BG:7 El sistema debe estar siempre disponible\", \n",
    "      \"BG:8 Ampliación a nuevos municipios\"]\n",
    "\n",
    "Vista = [\"Vista Logica\", \"Vista Procesos\", \"Vista Implementacion\", \"Vista Despliegue\", \"Vista Escenarios\"]"
   ]
  },
  {
   "cell_type": "code",
   "execution_count": 9,
   "id": "3425dd4c-29dc-4cd4-8b8a-64be279ccb64",
   "metadata": {},
   "outputs": [],
   "source": [
    "logico          = [\"L1. Usuario\", \"L2. Sensor: Dispositivo IoT\", \"L3. SensorCalidadAgua\", \"L4. SensorNivelAgua\", \"L5. Actuador\", \"L6. Tubería\", \"L7. Calle\", \"L8. Ciudad\"]\n",
    "\n",
    "\n",
    "implementacion  = [\"I1. Monitor de Operaciones\" , \"I2. Controlador de operaciones\",  \"I3. Validación de Operaciones\",  \"I4. Almacenamiento BBDDs\",  \"I5. Cifrado BBDDs\"   , \"I6. Redes de comunicación\"\n",
    "                   ,\"I7. Interfaz de Usuarios\"  , \"I8. Controlador de Usuarios\"   , \"I9. Gestión de funcionalidades\", \"I10. Almacenamiento BBDDs\", \"I11. Cifrado BBDDs\"   , \"I12. Redes de comunicación\"\n",
    "                   ,\"I13. Gestión de calidad\"   , \"I14. Cifrado de BBDDs\"         , \"I15. Redes de comunicación\"    , \"I16. Gestión de fugas\"    , \"I17. Cifrado de BBDDs\", \"I18. Redes de comunicación\"\n",
    "                   ,\"I19. Gestión de acciones\"  , \"I20. Cifrado de BBDDs\"         , \"I21. Redes de comunicación\"]\n",
    "\n",
    "casosUso        = [\"CU1\", \"CU2\", \"CU3\", \"CU4\", \"CU5\"]"
   ]
  },
  {
   "cell_type": "markdown",
   "id": "196ece56-6949-41d3-837c-05bd3961aa43",
   "metadata": {
    "tags": []
   },
   "source": [
    "<h2>Funcion de creación</h2>"
   ]
  },
  {
   "cell_type": "code",
   "execution_count": 23,
   "id": "51175d9d-7408-44c5-a156-bd68b15aa236",
   "metadata": {},
   "outputs": [],
   "source": [
    "def crear (carpeta, nombre, fila, columna):\n",
    "    df = pd.DataFrame(index=None)\n",
    "    df.insert(0, nombre, fila)\n",
    "    \n",
    "    for i in range(1,len(columna)+1):\n",
    "        df.insert(i,columna[i-1],\"-\")\n",
    "    \n",
    "    df.to_excel(carpeta+\"/\"+nombre+\".xlsx\", index=False)"
   ]
  },
  {
   "cell_type": "markdown",
   "id": "ecd20a14-b6e8-45d9-8da7-a6f2c7626781",
   "metadata": {
    "tags": []
   },
   "source": [
    "<h2>Tablas de BG-AQ y BG-Vista</h2>"
   ]
  },
  {
   "cell_type": "code",
   "execution_count": 24,
   "id": "8625ab58-efa0-4a17-80c5-2e324d59f83e",
   "metadata": {},
   "outputs": [],
   "source": [
    "crear(\"BG\", \"BG_AQ\", BG, AQ)\n",
    "crear(\"BG\", \"BG_Vista\", BG, Vista)"
   ]
  },
  {
   "cell_type": "markdown",
   "id": "1a31242b-1f96-4411-8b07-7327e862081a",
   "metadata": {
    "tags": []
   },
   "source": [
    "<h2>Tablas de Logico-Proceso, Logico-Implementacion, Logico-Despliegue, Logico-CasosUso</h2>"
   ]
  },
  {
   "cell_type": "code",
   "execution_count": 25,
   "id": "dcb6b56e-c68e-4dff-8648-d4f00f8e6053",
   "metadata": {},
   "outputs": [],
   "source": [
    "lp = \"Logico/Proceso\"\n",
    "#li = \"Logico/Implentacion\"\n",
    "ld = \"Logico/Despliegue\"\n",
    "#lc = \"Logico/CasosUso\"\n",
    "\n",
    "crear(\"Logico\", \"logico_implementacion\", logico, implementacion)\n",
    "crear(\"Logico\", \"logico_casosUso\", logico, casosUso)"
   ]
  },
  {
   "cell_type": "markdown",
   "id": "25aedb7b-9672-4703-b71c-d50d64f9c5ec",
   "metadata": {},
   "source": [
    "<h2>Tablas de Proceso-Implementacion, Proceso-Despliegue, Proceso-CasosUso</h2>"
   ]
  },
  {
   "cell_type": "code",
   "execution_count": 13,
   "id": "4d589f7b-cb03-4cde-9fdc-fc6bb6ed3253",
   "metadata": {},
   "outputs": [],
   "source": [
    "pi = \"Proceso/Implementacion\"\n",
    "pd = \"Proceso/Despliegue\"\n",
    "pc = \"Proceso/CasosUso\""
   ]
  },
  {
   "cell_type": "markdown",
   "id": "5d158a74-d84e-4b51-a55f-232555e744bb",
   "metadata": {},
   "source": [
    "<h2>Tablas de Implementacion-CasosUso</h2>"
   ]
  },
  {
   "cell_type": "code",
   "execution_count": 26,
   "id": "0f15fdbf-1745-4132-bce6-1363d3665d55",
   "metadata": {},
   "outputs": [],
   "source": [
    "#ic = \"Implementacion/CasosUso\"\n",
    "\n",
    "crear(\"Implementacion\", \"implementacion_casosUso\", implementacion, casosUso)"
   ]
  },
  {
   "cell_type": "markdown",
   "id": "d6aca272-967c-4640-b8ab-2c4bac2280dc",
   "metadata": {},
   "source": [
    "<h2>Tablas de Despliegue-Implementacion, Despliegue-CasosUso</h2>"
   ]
  },
  {
   "cell_type": "code",
   "execution_count": null,
   "id": "5481b131-ea7e-475f-9b97-114330841144",
   "metadata": {},
   "outputs": [],
   "source": [
    "di = \"Despliegue/Implementacion\"\n",
    "dc = \"Despliegue/CasosUso\""
   ]
  }
 ],
 "metadata": {
  "kernelspec": {
   "display_name": "Python 3 (ipykernel)",
   "language": "python",
   "name": "python3"
  },
  "language_info": {
   "codemirror_mode": {
    "name": "ipython",
    "version": 3
   },
   "file_extension": ".py",
   "mimetype": "text/x-python",
   "name": "python",
   "nbconvert_exporter": "python",
   "pygments_lexer": "ipython3",
   "version": "3.8.13"
  }
 },
 "nbformat": 4,
 "nbformat_minor": 5
}
