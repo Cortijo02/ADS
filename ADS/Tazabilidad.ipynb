{
 "cells": [
  {
   "cell_type": "code",
   "execution_count": 3,
   "id": "e778a82c-4179-4992-8764-26d56a1cd757",
   "metadata": {},
   "outputs": [],
   "source": [
    "import pandas as pd\n",
    "import matplotlib.pyplot as plt"
   ]
  },
  {
   "cell_type": "code",
   "execution_count": 56,
   "id": "8748dafe-58fc-43d8-a9ff-802ada32604d",
   "metadata": {},
   "outputs": [],
   "source": [
    "#pip install openpyxl"
   ]
  },
  {
   "cell_type": "code",
   "execution_count": 25,
   "id": "a0b1400f-3d95-4008-922c-5d74291d18e9",
   "metadata": {},
   "outputs": [],
   "source": [
    "AQ = [\"Disponibilidad\", \"Seguridad\", \"Fiabilidad\", \"Escalabilidad\", \"Modificabilidad\", \"Rendimiento\", \"Testeabilidad\", \"Interoperabilidad\"]\n",
    "\n",
    "BG = [\"BG:1\", \"BG:2\", \"BG:3\", \"BG:4\", \"BG:5\", \"BG:6\", \"BG:7\", \"BG:8\"]\n",
    "\n",
    "Vista = [\"Vista 1\", \"Vista 2\", \"Vista 3\", \"Vista 4\", \"Vista 5\"]"
   ]
  },
  {
   "cell_type": "code",
   "execution_count": 58,
   "id": "3425dd4c-29dc-4cd4-8b8a-64be279ccb64",
   "metadata": {},
   "outputs": [],
   "source": [
    "logico          = [\"L1. Usuario\", \"L2. Sensor: Dispositivo IoT\", \"L3. SensorCalidadAgua\", \"L4. SensorNivelAgua\", \"L5. Actuador\", \"L6. Tubería\", \"L7. Calle\", \"L8. Ciudad\"]\n",
    "\n",
    "\n",
    "implementacion  = [\"I1. Monitor de Operaciones\" , \"I2. Controlador de operaciones\",  \"I3. Validación de Operaciones\",  \"I4. Almacenamiento BBDDs\",  \"I5. Cifrado BBDDs\"   , \"I6. Redes de comunicación\"\n",
    "                   ,\"I7. Interfaz de Usuarios\"  , \"I8. Controlador de Usuarios\"   , \"I9. Gestión de funcionalidades\", \"I10. Almacenamiento BBDDs\", \"I11. Cifrado BBDDs\"   , \"I12. Redes de comunicación\"\n",
    "                   ,\"I13. Gestión de calidad\"   , \"I14. Cifrado de BBDDs\"         , \"I15. Redes de comunicación\"    , \"I16. Gestión de fugas\"    , \"I17. Cifrado de BBDDs\", \"I18. Redes de comunicación\"\n",
    "                   ,\"I19. Gestión de acciones\"  , \"I20. Cifrado de BBDDs\"         , \"I21. Redes de comunicación\"]\n",
    "\n",
    "casosUso        = [\"CU1\", \"CU2\", \"CU3\", \"CU4\", \"CU5\"]"
   ]
  },
  {
   "cell_type": "markdown",
   "id": "ecd20a14-b6e8-45d9-8da7-a6f2c7626781",
   "metadata": {},
   "source": [
    "**Tablas de BG-AQ y BG-Vista**"
   ]
  },
  {
   "cell_type": "code",
   "execution_count": 26,
   "id": "8625ab58-efa0-4a17-80c5-2e324d59f83e",
   "metadata": {},
   "outputs": [],
   "source": [
    "bg_aq = [[\"-\",\"-\",\"-\",\"-\",\"-\",\"-\",\"-\",\"-\"],    [\"-\",\"-\",\"-\",\"-\",\"-\",\"-\",\"-\",\"-\"], [\"-\",\"-\",\"-\",\"-\",\"-\",\"-\",\"-\",\"-\"], [\"-\",\"-\",\"-\",\"-\",\"-\",\"-\",\"-\",\"-\"], \n",
    "         [\"-\",\"-\",\"-\",\"-\",\"-\",\"-\",\"-\",\"-\"],    [\"-\",\"-\",\"-\",\"-\",\"-\",\"-\",\"-\",\"-\"], [\"-\",\"-\",\"-\",\"-\",\"-\",\"-\",\"-\",\"-\"], [\"-\",\"-\",\"-\",\"-\",\"-\",\"-\",\"-\",\"-\"],\n",
    "         [\"-\",\"-\",\"-\",\"-\",\"-\",\"-\",\"-\",\"-\"]]\n",
    "\n",
    "bg_v = [[\"-\",\"-\",\"-\",\"-\",\"-\",\"-\",\"-\",\"-\"],    [\"-\",\"-\",\"-\",\"-\",\"-\",\"-\",\"-\",\"-\"], [\"-\",\"-\",\"-\",\"-\",\"-\",\"-\",\"-\",\"-\"], [\"-\",\"-\",\"-\",\"-\",\"-\",\"-\",\"-\",\"-\"], \n",
    "        [\"-\",\"-\",\"-\",\"-\",\"-\",\"-\",\"-\",\"-\"],    [\"-\",\"-\",\"-\",\"-\",\"-\",\"-\",\"-\",\"-\"]]\n",
    "\n",
    "pdbg_aq = pd.DataFrame(index=None)\n",
    "pdbg_aq.insert(0, \"BG/AQ\", BG)\n",
    "\n",
    "for i in range (1,9):\n",
    "    pdbg_aq.insert(i,        AQ[i-1], bg_aq[i-1])\n",
    "    \n",
    "pdbg_aq.to_excel(\"BG/BG_AQ.xlsx\", index=False)\n",
    "\n",
    "pdbg_v = pd.DataFrame(index=None)\n",
    "pdbg_v.insert(0, \"BG/Vista\", BG)\n",
    "\n",
    "for i in range (1,6):\n",
    "    pdbg_v.insert(i,        Vista[i-1], bg_v[i-1])\n",
    "    \n",
    "pdbg_v.to_excel(\"BG/BG_Vistas.xlsx\", index=False)"
   ]
  },
  {
   "cell_type": "code",
   "execution_count": 61,
   "id": "dcb6b56e-c68e-4dff-8648-d4f00f8e6053",
   "metadata": {},
   "outputs": [],
   "source": [
    "lp = \"Logico/Proceso\"\n",
    "#li = \"Logico/Implentacion\"\n",
    "ld = \"Logico/Despliegue\"\n",
    "#lc = \"Logico/CasosUso\"\n",
    "\n",
    "\n",
    "\n",
    "l_i    = [[\"-\",\"-\",\"-\",\"-\",\"-\",\"-\",\"-\",\"-\"],     [\"-\",\"-\",\"-\",\"-\",\"-\",\"-\",\"-\",\"-\"], [\"-\",\"-\",\"-\",\"-\",\"-\",\"-\",\"-\",\"-\"], [\"-\",\"-\",\"-\",\"-\",\"-\",\"-\",\"-\",\"-\"], \n",
    "          [\"-\",\"-\",\"-\",\"-\",\"-\",\"-\",\"-\",\"-\"],     [\"-\",\"-\",\"-\",\"-\",\"-\",\"-\",\"-\",\"-\"], [\"-\",\"-\",\"-\",\"-\",\"-\",\"-\",\"-\",\"-\"], [\"-\",\"-\",\"-\",\"-\",\"-\",\"-\",\"-\",\"-\"], \n",
    "          [\"-\",\"-\",\"-\",\"-\",\"-\",\"-\",\"-\",\"-\"],     [\"-\",\"-\",\"-\",\"-\",\"-\",\"-\",\"-\",\"-\"], [\"-\",\"-\",\"-\",\"-\",\"-\",\"-\",\"-\",\"-\"], [\"-\",\"-\",\"-\",\"-\",\"-\",\"-\",\"-\",\"-\"], \n",
    "          [\"-\",\"-\",\"-\",\"-\",\"-\",\"-\",\"-\",\"-\"],     [\"-\",\"-\",\"-\",\"-\",\"-\",\"-\",\"-\",\"-\"], [\"-\",\"-\",\"-\",\"-\",\"-\",\"-\",\"-\",\"-\"], [\"-\",\"-\",\"-\",\"-\",\"-\",\"-\",\"-\",\"-\"],     \n",
    "          [\"-\",\"-\",\"-\",\"-\",\"-\",\"-\",\"-\",\"-\"],     [\"-\",\"-\",\"-\",\"-\",\"-\",\"-\",\"-\",\"-\"], [\"-\",\"-\",\"-\",\"-\",\"-\",\"-\",\"-\",\"-\"], [\"-\",\"-\",\"-\",\"-\",\"-\",\"-\",\"-\",\"-\"],\n",
    "          [\"-\",\"-\",\"-\",\"-\",\"-\",\"-\",\"-\",\"-\"]]\n",
    "\n",
    "l_c    = [[\"-\",\"-\",\"-\",\"-\",\"-\",\"-\",\"-\",\"-\"],     [\"-\",\"-\",\"-\",\"-\",\"-\",\"-\",\"-\",\"-\"], [\"-\",\"-\",\"-\",\"-\",\"-\",\"-\",\"-\",\"-\"], [\"-\",\"-\",\"-\",\"-\",\"-\",\"-\",\"-\",\"-\"], \n",
    "          [\"-\",\"-\",\"-\",\"-\",\"-\",\"-\",\"-\",\"-\"]]\n",
    "            \n",
    "\n",
    "\n",
    "pdl_i = pd.DataFrame(index=None)\n",
    "pdl_i.insert(0, \"Lógico/Implementación\", logico)\n",
    "\n",
    "for i in range (1,22):\n",
    "    pdl_i.insert(i,        implementacion[i-1], l_i[i-1])\n",
    "    \n",
    "pdl_c = pd.DataFrame(index=None)\n",
    "pdl_c.insert(0, \"Lógico/Implementación\", logico)\n",
    "\n",
    "for i in range (1,6):\n",
    "    pdl_c.insert(i,        casosUso[i-1], l_c[i-1])\n",
    "    \n",
    "    \n",
    "\n",
    "pdl_i.to_excel(\"Logico/logico_implementacion.xlsx\", index=False, sheet_name='li')\n",
    "pdl_c.to_excel(\"Logico/logico_casosUso.xlsx\", index=False, sheet_name='li')"
   ]
  },
  {
   "cell_type": "code",
   "execution_count": null,
   "id": "4d589f7b-cb03-4cde-9fdc-fc6bb6ed3253",
   "metadata": {},
   "outputs": [],
   "source": [
    "pi = \"Proceso/Implementacion\"\n",
    "pd = \"Proceso/Despliegue\"\n",
    "pc = \"Proceso/CasosUso\""
   ]
  },
  {
   "cell_type": "markdown",
   "id": "5d158a74-d84e-4b51-a55f-232555e744bb",
   "metadata": {},
   "source": [
    "**Tablas de Implementacion/CasosUso**"
   ]
  },
  {
   "cell_type": "code",
   "execution_count": 64,
   "id": "0f15fdbf-1745-4132-bce6-1363d3665d55",
   "metadata": {},
   "outputs": [],
   "source": [
    "#ic = \"Implementacion/CasosUso\"\n",
    "\n",
    "i_c    = [[\"-\",\"-\",\"-\",\"-\",\"-\",\"-\",\"-\",\"-\",\"-\",\"-\",\"-\",\"-\",\"-\",\"-\",\"-\",\"-\",\"-\",\"-\",\"-\",\"-\",\"-\"],\n",
    "          [\"-\",\"-\",\"-\",\"-\",\"-\",\"-\",\"-\",\"-\",\"-\",\"-\",\"-\",\"-\",\"-\",\"-\",\"-\",\"-\",\"-\",\"-\",\"-\",\"-\",\"-\"], \n",
    "          [\"-\",\"-\",\"-\",\"-\",\"-\",\"-\",\"-\",\"-\",\"-\",\"-\",\"-\",\"-\",\"-\",\"-\",\"-\",\"-\",\"-\",\"-\",\"-\",\"-\",\"-\"], \n",
    "          [\"-\",\"-\",\"-\",\"-\",\"-\",\"-\",\"-\",\"-\",\"-\",\"-\",\"-\",\"-\",\"-\",\"-\",\"-\",\"-\",\"-\",\"-\",\"-\",\"-\",\"-\"], \n",
    "          [\"-\",\"-\",\"-\",\"-\",\"-\",\"-\",\"-\",\"-\",\"-\",\"-\",\"-\",\"-\",\"-\",\"-\",\"-\",\"-\",\"-\",\"-\",\"-\",\"-\",\"-\"]]\n",
    "\n",
    "pdi_c = pd.DataFrame(index=None)\n",
    "pdi_c.insert(0, \"Implementación/CasosUso\", implementacion)\n",
    "\n",
    "for i in range (1,6):\n",
    "    pdi_c.insert(i,        casosUso[i-1], i_c[i-1])\n",
    "    \n",
    "pdi_c.to_excel(\"Implementacion/implementacion_casosUso.xlsx\", index=False, sheet_name='li')"
   ]
  },
  {
   "cell_type": "code",
   "execution_count": null,
   "id": "5481b131-ea7e-475f-9b97-114330841144",
   "metadata": {},
   "outputs": [],
   "source": [
    "di = \"Despliegue/Implementacion\"\n",
    "dc = \"Despliegue/CasosUso\""
   ]
  }
 ],
 "metadata": {
  "kernelspec": {
   "display_name": "Python 3 (ipykernel)",
   "language": "python",
   "name": "python3"
  },
  "language_info": {
   "codemirror_mode": {
    "name": "ipython",
    "version": 3
   },
   "file_extension": ".py",
   "mimetype": "text/x-python",
   "name": "python",
   "nbconvert_exporter": "python",
   "pygments_lexer": "ipython3",
   "version": "3.8.13"
  }
 },
 "nbformat": 4,
 "nbformat_minor": 5
}
