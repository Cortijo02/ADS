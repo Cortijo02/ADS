{
 "cells": [
  {
   "cell_type": "code",
   "execution_count": 1,
   "id": "e778a82c-4179-4992-8764-26d56a1cd757",
   "metadata": {},
   "outputs": [],
   "source": [
    "import pandas as pd\n",
    "import matplotlib.pyplot as plt"
   ]
  },
  {
   "cell_type": "code",
   "execution_count": 2,
   "id": "8748dafe-58fc-43d8-a9ff-802ada32604d",
   "metadata": {},
   "outputs": [
    {
     "name": "stdout",
     "output_type": "stream",
     "text": [
      "Collecting openpyxl\n",
      "  Downloading openpyxl-3.1.2-py2.py3-none-any.whl (249 kB)\n",
      "\u001b[2K     \u001b[90m━━━━━━━━━━━━━━━━━━━━━━━━━━━━━━━━━━━━━\u001b[0m \u001b[32m250.0/250.0 kB\u001b[0m \u001b[31m317.4 kB/s\u001b[0m eta \u001b[36m0:00:00\u001b[0ma \u001b[36m0:00:01\u001b[0m\n",
      "\u001b[?25hCollecting et-xmlfile\n",
      "  Downloading et_xmlfile-1.1.0-py3-none-any.whl (4.7 kB)\n",
      "Installing collected packages: et-xmlfile, openpyxl\n",
      "Successfully installed et-xmlfile-1.1.0 openpyxl-3.1.2\n",
      "Note: you may need to restart the kernel to use updated packages.\n"
     ]
    }
   ],
   "source": [
    "pip install openpyxl"
   ]
  },
  {
   "cell_type": "code",
   "execution_count": 19,
   "id": "51175d9d-7408-44c5-a156-bd68b15aa236",
   "metadata": {},
   "outputs": [],
   "source": [
    "def crear (carpeta, nombre, fila, columna):\n",
    "    df = pd.DataFrame(index=None)\n",
    "    df.insert(0, nombre, fila)\n",
    "    \n",
    "    for i in range(1,len(columna)+1):\n",
    "        df.insert(i,columna[i-1],\"-\")\n",
    "    \n",
    "    df.to_excel(carpeta+\"/\"+nombre+\".xlsx\", index=False)"
   ]
  },
  {
   "cell_type": "code",
   "execution_count": 5,
   "id": "a0b1400f-3d95-4008-922c-5d74291d18e9",
   "metadata": {},
   "outputs": [],
   "source": [
    "AQ = [\"Disponibilidad\", \"Seguridad\", \"Fiabilidad\", \"Escalabilidad\", \"Modificabilidad\", \"Rendimiento\", \"Testeabilidad\", \"Interoperabilidad\"]\n",
    "\n",
    "BG = [\"BG:1 Reducir el desperdicio de agua ocasionado por fugas\", \n",
    "      \"BG:2 Asegurar que la calidad del agua es aceptable\", \n",
    "      \"BG:3 Reducir el coste de mantenimiento\", \n",
    "      \"BG:4 \", \n",
    "      \"BG:5\", \n",
    "      \"BG:6\", \n",
    "      \"BG:7\", \n",
    "      \"BG:8\"]\n",
    "\n",
    "Vista = [\"Vista 1\", \"Vista 2\", \"Vista 3\", \"Vista 4\", \"Vista 5\"]"
   ]
  },
  {
   "cell_type": "code",
   "execution_count": 22,
   "id": "3425dd4c-29dc-4cd4-8b8a-64be279ccb64",
   "metadata": {},
   "outputs": [],
   "source": [
    "logico          = [\"L1. Usuario\", \"L2. Sensor: Dispositivo IoT\", \"L3. SensorCalidadAgua\", \"L4. SensorNivelAgua\", \"L5. Actuador\", \"L6. Tubería\", \"L7. Calle\", \"L8. Ciudad\"]\n",
    "\n",
    "\n",
    "implementacion  = [\"I1. Monitor de Operaciones\" , \"I2. Controlador de operaciones\",  \"I3. Validación de Operaciones\",  \"I4. Almacenamiento BBDDs\",  \"I5. Cifrado BBDDs\"   , \"I6. Redes de comunicación\"\n",
    "                   ,\"I7. Interfaz de Usuarios\"  , \"I8. Controlador de Usuarios\"   , \"I9. Gestión de funcionalidades\", \"I10. Almacenamiento BBDDs\", \"I11. Cifrado BBDDs\"   , \"I12. Redes de comunicación\"\n",
    "                   ,\"I13. Gestión de calidad\"   , \"I14. Cifrado de BBDDs\"         , \"I15. Redes de comunicación\"    , \"I16. Gestión de fugas\"    , \"I17. Cifrado de BBDDs\", \"I18. Redes de comunicación\"\n",
    "                   ,\"I19. Gestión de acciones\"  , \"I20. Cifrado de BBDDs\"         , \"I21. Redes de comunicación\"]\n",
    "\n",
    "casosUso        = [\"CU1\", \"CU2\", \"CU3\", \"CU4\", \"CU5\"]"
   ]
  },
  {
   "cell_type": "markdown",
   "id": "ecd20a14-b6e8-45d9-8da7-a6f2c7626781",
   "metadata": {},
   "source": [
    "**Tablas de BG-AQ y BG-Vista**"
   ]
  },
  {
   "cell_type": "code",
   "execution_count": 20,
   "id": "8625ab58-efa0-4a17-80c5-2e324d59f83e",
   "metadata": {},
   "outputs": [],
   "source": [
    "crear(\"BG\", \"BG_AQ\", BG, AQ)\n",
    "crear(\"BG\", \"BG_Vista\", BG, Vista)"
   ]
  },
  {
   "cell_type": "code",
   "execution_count": 24,
   "id": "dcb6b56e-c68e-4dff-8648-d4f00f8e6053",
   "metadata": {},
   "outputs": [],
   "source": [
    "lp = \"Logico/Proceso\"\n",
    "#li = \"Logico/Implentacion\"\n",
    "ld = \"Logico/Despliegue\"\n",
    "#lc = \"Logico/CasosUso\"\n",
    "\n",
    "crear(\"Logico\", \"logico_implementacion\", logico, implementacion)\n",
    "crear(\"Logico\", \"logico_casosUso\", logico, casosUso)"
   ]
  },
  {
   "cell_type": "code",
   "execution_count": null,
   "id": "4d589f7b-cb03-4cde-9fdc-fc6bb6ed3253",
   "metadata": {},
   "outputs": [],
   "source": [
    "pi = \"Proceso/Implementacion\"\n",
    "pd = \"Proceso/Despliegue\"\n",
    "pc = \"Proceso/CasosUso\""
   ]
  },
  {
   "cell_type": "markdown",
   "id": "5d158a74-d84e-4b51-a55f-232555e744bb",
   "metadata": {},
   "source": [
    "**Tablas de Implementacion/CasosUso**"
   ]
  },
  {
   "cell_type": "code",
   "execution_count": 26,
   "id": "0f15fdbf-1745-4132-bce6-1363d3665d55",
   "metadata": {},
   "outputs": [],
   "source": [
    "#ic = \"Implementacion/CasosUso\"\n",
    "\n",
    "crear(\"Implementacion\", \"implementacion_casosUso\", implementacion, casosUso)"
   ]
  },
  {
   "cell_type": "code",
   "execution_count": null,
   "id": "5481b131-ea7e-475f-9b97-114330841144",
   "metadata": {},
   "outputs": [],
   "source": [
    "di = \"Despliegue/Implementacion\"\n",
    "dc = \"Despliegue/CasosUso\""
   ]
  }
 ],
 "metadata": {
  "kernelspec": {
   "display_name": "Python 3 (ipykernel)",
   "language": "python",
   "name": "python3"
  },
  "language_info": {
   "codemirror_mode": {
    "name": "ipython",
    "version": 3
   },
   "file_extension": ".py",
   "mimetype": "text/x-python",
   "name": "python",
   "nbconvert_exporter": "python",
   "pygments_lexer": "ipython3",
   "version": "3.8.13"
  }
 },
 "nbformat": 4,
 "nbformat_minor": 5
}
